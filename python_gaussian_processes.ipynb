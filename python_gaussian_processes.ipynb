{
 "cells": [
  {
   "cell_type": "markdown",
   "metadata": {},
   "source": [
    "**Gaussian Processes for circuitpython**\n",
    "\n",
    "Funktioniert ganz gut. Also Theoretisch kann man alle Funktionen mit Hilfe der numpy Funktionen aus der reduzierten circuitpython Version mehr oder weniger nachschreiben.\n",
    "\n",
    "Blöderweise bekomme ich aber so ein komisches Rauschen rein. Das müsste an der cholesky transfomation in sample_multivariante_normal_1d liegen. Ich bin mir aber nicht sicher.\n",
    "\n",
    "Komisch ist aber, dass es im Test rauschfrei funktioniert und erst im gaussian process rauscht. Das spricht dann eher fürs Invertieren der Matrix in gp_prediction... ok, ich denke das könnte es eher sein.\n",
    "\n",
    "Ansonsten bräcuhten wir noch einen Ersatz für from scipy.spatial.distance import cdist oder eine andere geeignete Kernelfunktion, die schöne Dinge macht."
   ]
  },
  {
   "cell_type": "markdown",
   "metadata": {},
   "source": [
    "**more elegant implementation**\n",
    "\n",
    "i think the noise comes from gauss sampling... yes Idiot!"
   ]
  },
  {
   "cell_type": "code",
   "execution_count": 14,
   "metadata": {},
   "outputs": [],
   "source": [
    "from numpy.linalg import inv\n",
    "#from gaussian_processes_util import plot_gp\n",
    "import numpy as np\n",
    "import matplotlib.pyplot as plt"
   ]
  },
  {
   "cell_type": "code",
   "execution_count": 15,
   "metadata": {},
   "outputs": [],
   "source": [
    "def kernel(X1, X2, l=1.0, sigma_f=1.0):\n",
    "    \"\"\"\n",
    "    Isotropic squared exponential kernel.\n",
    "    \n",
    "    Args:\n",
    "        X1: Array of m points (m x d).\n",
    "        X2: Array of n points (n x d).\n",
    "\n",
    "    Returns:\n",
    "        (m x n) matrix.\n",
    "    \"\"\"\n",
    "    sqdist = np.sum(X1**2, 1).reshape(-1, 1) + np.sum(X2**2, 1) - 2 * np.dot(X1, X2.T)\n",
    "    return sigma_f**2 * np.exp(-0.5 / l**2 * sqdist)\n",
    "\n",
    "def posterior(X_s, X_train, Y_train, l=1.0, sigma_f=1.0, sigma_y=1e-8):\n",
    "    \"\"\"\n",
    "    Computes the suffifient statistics of the posterior distribution \n",
    "    from m training data X_train and Y_train and n new inputs X_s.\n",
    "    \n",
    "    Args:\n",
    "        X_s: New input locations (n x d).\n",
    "        X_train: Training locations (m x d).\n",
    "        Y_train: Training targets (m x 1).\n",
    "        l: Kernel length parameter.\n",
    "        sigma_f: Kernel vertical variation parameter.\n",
    "        sigma_y: Noise parameter.\n",
    "    \n",
    "    Returns:\n",
    "        Posterior mean vector (n x d) and covariance matrix (n x n).\n",
    "    \"\"\"\n",
    "    K = kernel(X_train, X_train, l, sigma_f) + sigma_y**2 * np.eye(len(X_train))\n",
    "    K_s = kernel(X_train, X_s, l, sigma_f)\n",
    "    K_ss = kernel(X_s, X_s, l, sigma_f) + 1e-8 * np.eye(len(X_s))\n",
    "    K_inv = inv(K)\n",
    "    \n",
    "    # Equation (7)\n",
    "    mu_s = K_s.T.dot(K_inv).dot(Y_train)\n",
    "\n",
    "    # Equation (8)\n",
    "    cov_s = K_ss - K_s.T.dot(K_inv).dot(K_s)\n",
    "    \n",
    "    return mu_s, cov_s\n",
    "\n",
    "def box_muller_1d(dummy):    \n",
    "    #np.random.seed(521)\n",
    "    U1 = np.random.uniform(size = dummy)\n",
    "    U2 = np.random.uniform(size = dummy)\n",
    "    R = np.sqrt(-2 * np.log(U1))\n",
    "    Theta = 2 * np.pi * U2\n",
    "    X = R * np.cos(Theta)\n",
    "    Y = R * np.sin(Theta)\n",
    "    return X\n",
    "\n",
    "def sample_gauss_box_mueller_1d(mu,sigma,size):\n",
    "    print(\"this is box mueller\")\n",
    "    xx = np.vectorize(box_muller_1d)\n",
    "    # use this for tests... box muller is faster\n",
    "    #print(\"this is box sampleN_v1\")\n",
    "    #xx = np.vectorize(sampleN_v1)\n",
    "    return xx(size) * sigma + mu\n",
    "\n",
    "def sample_multivariante_normal_1d(mu,K,epsilon=1e-100):\n",
    "    d = len(mu)\n",
    "    Kx = K + epsilon#*np.eye(d)\n",
    "    L = np.linalg.cholesky(Kx)\n",
    "    #L = scipy.linalg.cholesky(Kx)\n",
    "    u = sample_gauss_box_mueller_1d(0, 1, d )\n",
    "    return mu.transpose() + np.dot(L, u)"
   ]
  },
  {
   "cell_type": "code",
   "execution_count": 16,
   "metadata": {},
   "outputs": [
    {
     "data": {
      "image/png": "[encoded data removed]",
      "text/plain": [
       "<Figure size 432x288 with 1 Axes>"
      ]
     },
     "metadata": {
      "needs_background": "light"
     },
     "output_type": "display_data"
    },
    {
     "name": "stdout",
     "output_type": "stream",
     "text": [
      "this is box mueller\n"
     ]
    },
    {
     "data": {
      "image/png": "[encoded data removed]",
      "text/plain": [
       "<Figure size 432x288 with 1 Axes>"
      ]
     },
     "metadata": {
      "needs_background": "light"
     },
     "output_type": "display_data"
    }
   ],
   "source": [
    "# Finite number of points\n",
    "X = np.arange(-5, 5, 0.2).reshape(-1, 1)\n",
    "\n",
    "# Mean and covariance of the prior\n",
    "mu = np.zeros(X.shape)\n",
    "cov = kernel(X, X)\n",
    "\n",
    "# Draw three samples from the prior\n",
    "samples = np.random.multivariate_normal(mu.ravel(), cov, 3)\n",
    "\n",
    "# Plot GP mean, uncertainty region and samples \n",
    "#plot_gp(mu, cov, X, samples=samples)\n",
    "\n",
    "# Noise free training data\n",
    "X_train = np.array([-4, -3, -2, -1, 1]).reshape(-1, 1)\n",
    "Y_train = np.sin(X_train)\n",
    "\n",
    "X_train = np.arange(0.5,5).reshape(-1, 1)\n",
    "Y_train = np.sqrt(X_train)\n",
    "\n",
    "# Compute mean and covariance of the posterior distribution\n",
    "mu_s, cov_s = posterior(X, X_train, Y_train, l=1.0, sigma_f=.0010, sigma_y=1e-8)\n",
    "\n",
    "samples = np.random.multivariate_normal(mu_s.ravel(), cov_s, 3)\n",
    "#plot_gp(mu_s, cov_s, X, X_train=X_train, Y_train=Y_train, samples=samples)\n",
    "\n",
    "\n",
    "plt.plot( np.squeeze(X), samples.T )\n",
    "plt.plot(np.squeeze(X_train),np.squeeze(Y_train),\".k\")\n",
    "plt.show()\n",
    "\n",
    "samples_1d  = sample_multivariante_normal_1d(mu_s.ravel(), cov_s)\n",
    "\n",
    "plt.plot( np.squeeze(X), samples_1d.T )\n",
    "plt.plot(np.squeeze(X_train),np.squeeze(Y_train),\".k\")\n",
    "plt.show()"
   ]
  },
  {
   "cell_type": "markdown",
   "metadata": {},
   "source": [
    "**Euclidean Distance**\n",
    "\n",
    "...is missing :/\n",
    "...and nice :)\n",
    "For rbf_kernel... oder einen ebenfalls geeigneten Kernel suchen..."
   ]
  },
  {
   "cell_type": "code",
   "execution_count": null,
   "metadata": {},
   "outputs": [],
   "source": [
    "a = np.array([[1,1,1,1],[1,2,3,4]])\n",
    "np.linalg.norm( [1,2] )"
   ]
  },
  {
   "cell_type": "code",
   "execution_count": null,
   "metadata": {},
   "outputs": [],
   "source": [
    "c = [(35.0456, -85.2672),\n",
    "          (35.1174, -89.9711),\n",
    "          (35.9728, -83.9422),\n",
    "          (36.1667, -86.7833)]\n",
    "\n",
    "c = [ [1,2,3,5], [2,2,3,4], [2,2,3,4] ]\n",
    "cdist(c,c)"
   ]
  },
  {
   "cell_type": "code",
   "execution_count": null,
   "metadata": {},
   "outputs": [],
   "source": [
    "np.linalg.norm( [1,2] )"
   ]
  },
  {
   "cell_type": "code",
   "execution_count": null,
   "metadata": {},
   "outputs": [],
   "source": [
    "np.sqrt( (1-2)**2 )"
   ]
  },
  {
   "cell_type": "code",
   "execution_count": null,
   "metadata": {},
   "outputs": [],
   "source": [
    "np.sqrt( sum( [  (a-b)**2 for a,b in zip(c[0] , c[1]) ] ))"
   ]
  },
  {
   "cell_type": "markdown",
   "metadata": {},
   "source": [
    "**Glätten**\n",
    "\n",
    "convolution... not necessary anymore :)"
   ]
  },
  {
   "cell_type": "code",
   "execution_count": null,
   "metadata": {},
   "outputs": [],
   "source": [
    "np.convolve(  np.array([1, 1, 5, 5,6,6,7,7]),np.array([1]) , mode='same')"
   ]
  },
  {
   "cell_type": "markdown",
   "metadata": {},
   "source": [
    "**gaussian distribution tests**"
   ]
  },
  {
   "cell_type": "code",
   "execution_count": 17,
   "metadata": {},
   "outputs": [
    {
     "data": {
      "image/png": "[encoded data removed]",
      "text/plain": [
       "<Figure size 432x288 with 2 Axes>"
      ]
     },
     "metadata": {
      "needs_background": "light"
     },
     "output_type": "display_data"
    },
    {
     "data": {
      "image/png": "[encoded data removed]",
      "text/plain": [
       "<Figure size 432x288 with 2 Axes>"
      ]
     },
     "metadata": {
      "needs_background": "light"
     },
     "output_type": "display_data"
    }
   ],
   "source": [
    "np.random.seed(521)\n",
    "U1 = np.random.uniform(size = 1000)\n",
    "U2 = np.random.uniform(size = 1000)\n",
    "R = np.sqrt(-2 * np.log(U1))\n",
    "Theta = 2 * np.pi * U2\n",
    "X = R * np.cos(Theta)\n",
    "Y = R * np.sin(Theta)\n",
    "\n",
    "fig,(ax1,ax2) = plt.subplots(1,2)\n",
    "temp = ax1.hist(X)\n",
    "ax1.set_title(\"X\")\n",
    "temp = ax2.hist(Y)\n",
    "ax2.set_title(\"Y\")\n",
    "plt.show()\n",
    "\n",
    "test =  box_muller_1d(200)\n",
    "\n",
    "\n",
    "\n",
    "\n",
    "fig,(ax1,ax2) = plt.subplots(1,2)\n",
    "temp = ax1.hist(test)\n",
    "ax1.set_title(\"Xtest\")\n",
    "temp = ax2.hist(X)\n",
    "ax2.set_title(\"X\")\n",
    "plt.show()"
   ]
  },
  {
   "cell_type": "code",
   "execution_count": null,
   "metadata": {},
   "outputs": [],
   "source": []
  },
  {
   "cell_type": "code",
   "execution_count": null,
   "metadata": {},
   "outputs": [],
   "source": []
  }
 ],
 "metadata": {
  "kernelspec": {
   "display_name": "Python 3",
   "language": "python",
   "name": "python3"
  },
  "language_info": {
   "codemirror_mode": {
    "name": "ipython",
    "version": 3
   },
   "file_extension": ".py",
   "mimetype": "text/x-python",
   "name": "python",
   "nbconvert_exporter": "python",
   "pygments_lexer": "ipython3",
   "version": "3.8.3"
  }
 },
 "nbformat": 4,
 "nbformat_minor": 4
}
