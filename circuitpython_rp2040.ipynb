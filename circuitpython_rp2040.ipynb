{
 "cells": [
  {
   "cell_type": "code",
   "execution_count": 106,
   "metadata": {},
   "outputs": [
    {
     "name": "stdout",
     "output_type": "stream",
     "text": [
      "2.25\n"
     ]
    }
   ],
   "source": [
    "#import ulab\n",
    "try:\n",
    "    from ulab import numpy as np\n",
    "except:\n",
    "    import numpy as np\n",
    "import random\n",
    "import math\n",
    "import time\n",
    "#from ulab import scipy as sp\n",
    "\n",
    "\n",
    "def mu_editor_plotter(y):\n",
    "    for yy in y:\n",
    "        time.sleep(0.1)\n",
    "        print( ( yy,0 ) )\n",
    "\n",
    "def randoms(size):\n",
    "    return np.array([ random.random() for _ in range(size)  ])\n",
    "\n",
    "def box_muller_1d(size):\n",
    "    U1 = randoms(size)\n",
    "    U2 = randoms(size)\n",
    "    R = np.sqrt(-2 * np.log(U1))\n",
    "    Theta = 2 * np.pi * U2\n",
    "    X = R * np.cos(Theta)\n",
    "    Y = R * np.sin(Theta)\n",
    "    return X\n",
    "\n",
    "def sample_gauss_box_mueller_1d(mu,sigma,size):\n",
    "    #print(\"this is box mueller\")\n",
    "    return box_muller_1d(size) * sigma + mu\n",
    "\n",
    "def sample_multivariante_normal_1d(mu,K,epsilon=1e-5):\n",
    "    d = len(mu)\n",
    "    \n",
    "    L = np.linalg.cholesky( matrix_sym(K) + epsilon*np.eye(d) )\n",
    "    \n",
    "    u = sample_gauss_box_mueller_1d(0, 1, d )\n",
    "    mu1 = mu.transpose()\n",
    "    return mu1 + np.dot(L, u)\n",
    "\n",
    "def kernel_1d(X1, X2, l=1.0, sigma_f=1.0):\n",
    "    \"\"\"\n",
    "    Isotropic squared exponential kernel.\n",
    "    \n",
    "    Args:\n",
    "        X1: Array of m points (m x d).\n",
    "        X2: Array of n points (n x d).\n",
    "\n",
    "    Returns:\n",
    "        (m x n) matrix.\n",
    "    \"\"\"\n",
    "    sqdist = reshape( X1**2 ) + X2**2 - 2 * dotdot_1d( X1, X2 )\n",
    "    return sigma_f**2 * np.exp(-0.5 / l**2 * sqdist)\n",
    "\n",
    "def reshape(X):\n",
    "    return np.array([[x] for x in X ])\n",
    "\n",
    "def matrix_sym(X):\n",
    "    # fixes bad nums ;)\n",
    "    for i,n1 in enumerate(X):\n",
    "        for j,n2 in enumerate(n1):\n",
    "            if i > j:\n",
    "                X[j][i] = n2\n",
    "    return X\n",
    "\n",
    "def dotdot_1d(v1,v2):\n",
    "    # ugly but works...\n",
    "    dot = np.zeros( ( len(v1),len(v2) ) )\n",
    "    for i,n1 in enumerate(v1):\n",
    "        for j,n2 in enumerate(v2):\n",
    "            dot[i][j] = n1*n2\n",
    "    return dot\n",
    "\n",
    "def posterior_1d(X_s, X_train, Y_train, l=1.0, sigma_f=1.0):\n",
    "    \"\"\"\n",
    "    Computes the suffifient statistics of the posterior distribution \n",
    "    from m training data X_train and Y_train and n new inputs X_s.\n",
    "    \n",
    "    Args:\n",
    "        X_s: New input locations (n x d).\n",
    "        X_train: Training locations (m x d).\n",
    "        Y_train: Training targets (m x 1).\n",
    "        l: Kernel length parameter.\n",
    "        sigma_f: Kernel vertical variation parameter.\n",
    "        sigma_y: Noise parameter. (deleted no noise here)\n",
    "    \n",
    "    Returns:\n",
    "        Posterior mean vector (n x d) and covariance matrix (n x n).\n",
    "    \"\"\"\n",
    "    K = kernel_1d(X_train, X_train, l, sigma_f) #+ sigma_y**2 * np.eye(len(X_train))\n",
    "    K_s = kernel_1d(X_train, X_s, l, sigma_f)\n",
    "    K_ss = kernel_1d(X_s, X_s, l, sigma_f) + 1e-8 * np.eye(len(X_s))\n",
    "    K_inv = np.linalg.inv(K)\n",
    "    \n",
    "    # Equation (7)\n",
    "    mu_s = np.dot(np.dot(K_s.transpose(),K_inv),Y_train)\n",
    "    \n",
    "    # Equation (8)\n",
    "    cov_s = K_ss - np.dot(np.dot(K_s.transpose(),K_inv),K_s)\n",
    "    \n",
    "    return mu_s, cov_s\n",
    "\n",
    "\n",
    "# Finite number of points\n",
    "X = np.arange( 0.1, 1.1, 0.02 )*10\n",
    "Y_ref = np.sqrt(X)\n",
    "#Y_ref = np.sin(X)\n",
    "# Noise free training data\n",
    "X_train = np.array([ 0.1, 0.3, 0.4,0.7 , 1])*10\n",
    "Y_train = np.sqrt(X_train)\n",
    "\n",
    "mean_diff = np.mean( np.diff(X_train) )\n",
    "print(mean_diff) # ???\n",
    "\n",
    "# Compute mean and covariance of the posterior distribution\n",
    "mu_s, cov_s = posterior_1d(X, X_train, Y_train, l=2.5, sigma_f=1.)\n",
    "\n",
    "samples = sample_multivariante_normal_1d( mu_s, cov_s, epsilon=1e-5 )"
   ]
  },
  {
   "cell_type": "code",
   "execution_count": 107,
   "metadata": {},
   "outputs": [
    {
     "data": {
      "image/png": "[encoded data removed]",
      "text/plain": [
       "<Figure size 432x288 with 1 Axes>"
      ]
     },
     "metadata": {
      "needs_background": "light"
     },
     "output_type": "display_data"
    }
   ],
   "source": [
    "import matplotlib.pyplot as plt\n",
    "\n",
    "plt.plot( X_train, Y_train, \".k\" )\n",
    "plt.plot( X, Y_ref )\n",
    "for _ in range(10):\n",
    "    samples = sample_multivariante_normal_1d( mu_s, cov_s )\n",
    "    plt.plot( X, samples )"
   ]
  },
  {
   "cell_type": "code",
   "execution_count": null,
   "metadata": {},
   "outputs": [],
   "source": []
  }
 ],
 "metadata": {
  "kernelspec": {
   "display_name": "Python 3",
   "language": "python",
   "name": "python3"
  },
  "language_info": {
   "codemirror_mode": {
    "name": "ipython",
    "version": 3
   },
   "file_extension": ".py",
   "mimetype": "text/x-python",
   "name": "python",
   "nbconvert_exporter": "python",
   "pygments_lexer": "ipython3",
   "version": "3.8.3"
  }
 },
 "nbformat": 4,
 "nbformat_minor": 4
}
